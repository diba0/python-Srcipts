{
 "cells": [
  {
   "cell_type": "markdown",
   "id": "a806fc01",
   "metadata": {},
   "source": [
    "## 1. 波士顿房价预测：一元线性回归\n",
    "\n",
    "### 1.1 加载数据集"
   ]
  },
  {
   "cell_type": "code",
   "execution_count": 1,
   "id": "a43a5252",
   "metadata": {},
   "outputs": [],
   "source": [
    "import numpy as np\n",
    "import matplotlib.pyplot as plt\n",
    "import tensorflow as tf"
   ]
  },
  {
   "cell_type": "code",
   "execution_count": 2,
   "id": "6589933a",
   "metadata": {},
   "outputs": [],
   "source": [
    "boston_housing = tf.keras.datasets.boston_housing\n",
    "(train_x, train_y), (test_x, test_y) = boston_housing.load_data()"
   ]
  },
  {
   "cell_type": "code",
   "execution_count": 3,
   "id": "17f52317",
   "metadata": {},
   "outputs": [
    {
     "data": {
      "text/plain": [
       "((404, 13), (404,))"
      ]
     },
     "execution_count": 3,
     "metadata": {},
     "output_type": "execute_result"
    }
   ],
   "source": [
    "train_x.shape, train_y.shape"
   ]
  },
  {
   "cell_type": "code",
   "execution_count": 4,
   "id": "d2b3e20c",
   "metadata": {},
   "outputs": [
    {
     "data": {
      "text/plain": [
       "((102, 13), (102,))"
      ]
     },
     "execution_count": 4,
     "metadata": {},
     "output_type": "execute_result"
    }
   ],
   "source": [
    "test_x.shape, test_y.shape"
   ]
  },
  {
   "cell_type": "markdown",
   "id": "87610e78",
   "metadata": {},
   "source": [
    "### 1.2 数据处理"
   ]
  },
  {
   "cell_type": "code",
   "execution_count": 5,
   "id": "0cc98505",
   "metadata": {},
   "outputs": [],
   "source": [
    "x_train = train_x[:,5]\n",
    "y_train = train_y"
   ]
  },
  {
   "cell_type": "code",
   "execution_count": 6,
   "id": "e0c5426f",
   "metadata": {},
   "outputs": [
    {
     "data": {
      "text/plain": [
       "((404,), (404,))"
      ]
     },
     "execution_count": 6,
     "metadata": {},
     "output_type": "execute_result"
    }
   ],
   "source": [
    "x_train.shape, y_train.shape"
   ]
  },
  {
   "cell_type": "code",
   "execution_count": 7,
   "id": "9e6846de",
   "metadata": {},
   "outputs": [],
   "source": [
    "x_test = test_x[:,5]\n",
    "y_test = test_y"
   ]
  },
  {
   "cell_type": "code",
   "execution_count": 8,
   "id": "2699fb84",
   "metadata": {},
   "outputs": [
    {
     "data": {
      "text/plain": [
       "((102,), (102,))"
      ]
     },
     "execution_count": 8,
     "metadata": {},
     "output_type": "execute_result"
    }
   ],
   "source": [
    "x_test.shape, y_test.shape"
   ]
  },
  {
   "cell_type": "markdown",
   "id": "700f0722",
   "metadata": {},
   "source": [
    "### 1.3 设置超参数"
   ]
  },
  {
   "cell_type": "code",
   "execution_count": 9,
   "id": "51856767",
   "metadata": {},
   "outputs": [],
   "source": [
    "learn_rate = 0.04\n",
    "iter = 2000\n",
    "display_step = 200"
   ]
  },
  {
   "cell_type": "markdown",
   "id": "e52dc45f",
   "metadata": {},
   "source": [
    "### 1.4 设置模型参数初始值"
   ]
  },
  {
   "cell_type": "code",
   "execution_count": 10,
   "id": "e332d05f",
   "metadata": {},
   "outputs": [],
   "source": [
    "np.random.seed(612)\n",
    "w = tf.Variable(np.random.randn())\n",
    "b = tf.Variable(np.random.randn())\n"
   ]
  },
  {
   "cell_type": "code",
   "execution_count": 11,
   "id": "bfe6980b",
   "metadata": {},
   "outputs": [
    {
     "data": {
      "text/plain": [
       "(dtype('float32'), dtype('float32'))"
      ]
     },
     "execution_count": 11,
     "metadata": {},
     "output_type": "execute_result"
    }
   ],
   "source": [
    "w.numpy().dtype,b.numpy().dtype"
   ]
  },
  {
   "cell_type": "markdown",
   "id": "cb2d464c",
   "metadata": {},
   "source": [
    "### 1.5 训练模型"
   ]
  },
  {
   "cell_type": "code",
   "execution_count": 12,
   "id": "fcac53f0",
   "metadata": {},
   "outputs": [
    {
     "name": "stdout",
     "output_type": "stream",
     "text": [
      "i: 0, Train Loss: 321.83758544921875, Test_Loss: 337.5686340332031\n",
      "i: 200, Train Loss: 28.12261390686035, Test_Loss: 26.237764358520508\n",
      "i: 400, Train Loss: 27.14474105834961, Test_Loss: 25.099327087402344\n",
      "i: 600, Train Loss: 26.341949462890625, Test_Loss: 24.14107894897461\n",
      "i: 800, Train Loss: 25.682899475097656, Test_Loss: 23.33298110961914\n",
      "i: 1000, Train Loss: 25.1418514251709, Test_Loss: 22.650157928466797\n",
      "i: 1200, Train Loss: 24.69767189025879, Test_Loss: 22.072006225585938\n",
      "i: 1400, Train Loss: 24.333024978637695, Test_Loss: 21.581432342529297\n",
      "i: 1600, Train Loss: 24.03366470336914, Test_Loss: 21.164262771606445\n",
      "i: 1800, Train Loss: 23.787904739379883, Test_Loss: 20.808696746826172\n",
      "i: 2000, Train Loss: 23.586145401000977, Test_Loss: 20.50493812561035\n"
     ]
    }
   ],
   "source": [
    "mse_train = []\n",
    "mse_test = []\n",
    "\n",
    "for i in range(0, iter+1):\n",
    "    \n",
    "    with tf.GradientTape() as tape:\n",
    "        \n",
    "        pred_train = w*x_train+b\n",
    "        loss_train = 0.5*tf.reduce_mean(tf.square(y_train-pred_train))\n",
    "        \n",
    "        pred_test = w*x_test+b\n",
    "        loss_test = 0.5*tf.reduce_mean(tf.square(y_test-pred_test))\n",
    "        \n",
    "    mse_train.append(loss_train)\n",
    "    mse_test.append(loss_test)\n",
    "    \n",
    "    dL_dw,dL_db = tape.gradient(loss_train,[w,b])\n",
    "    w.assign_sub(learn_rate*dL_dw)\n",
    "    b.assign_sub(learn_rate*dL_db)\n",
    "    \n",
    "    if i%display_step == 0:\n",
    "        print(f'i: {i}, Train Loss: {loss_train}, Test_Loss: {loss_test}')"
   ]
  },
  {
   "cell_type": "markdown",
   "id": "986c8576",
   "metadata": {},
   "source": [
    "### 1.6 可视化输出"
   ]
  },
  {
   "cell_type": "code",
   "execution_count": null,
   "id": "299e3342",
   "metadata": {},
   "outputs": [],
   "source": [
    "plt.figure(figsize=(15,10))\n",
    "\n",
    "plt.subplot(221)\n",
    "plt.scatter(x_train,y_train,color='b',label='data')\n",
    "plt.plot(x_train, pred_train,color='r',label='model')\n",
    "plt.legend(loc='upper left')\n",
    "\n",
    "plt.subplot(222)\n",
    "plt.plot(mse_train, color='b',linewidth=3,label='train loss')\n",
    "plt.plot(mse_test, color='r',linewidth=1.5,label='test loss')\n",
    "plt.legend(loc='upper right')\n",
    "\n",
    "plt.subplot(223)\n",
    "plt.plot(y_train, color='b', marker='o',label='true_price')\n",
    "plt.plot(pred_train, color='r',marker='.',label='predict')\n",
    "plt.legend()\n",
    "\n",
    "plt.subplot(224)\n",
    "plt.plot(y_test, color='b', marker='o', label='true_price')\n",
    "plt.plot(pred_test, color='r', marker='.', label='predict')\n",
    "plt.legend()\n",
    "\n",
    "plt.show()"
   ]
  },
  {
   "cell_type": "code",
   "execution_count": null,
   "id": "b837da30",
   "metadata": {},
   "outputs": [],
   "source": []
  }
 ],
 "metadata": {
  "kernelspec": {
   "display_name": "Python [conda env:tensorflow]",
   "language": "python",
   "name": "conda-env-tensorflow-py"
  },
  "language_info": {
   "codemirror_mode": {
    "name": "ipython",
    "version": 3
   },
   "file_extension": ".py",
   "mimetype": "text/x-python",
   "name": "python",
   "nbconvert_exporter": "python",
   "pygments_lexer": "ipython3",
   "version": "3.8.0"
  }
 },
 "nbformat": 4,
 "nbformat_minor": 5
}
